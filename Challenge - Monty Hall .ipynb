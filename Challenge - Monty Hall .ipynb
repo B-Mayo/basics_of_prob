{
 "cells": [
  {
   "cell_type": "markdown",
   "metadata": {},
   "source": [
    "# Monty Hall Problem "
   ]
  },
  {
   "cell_type": "markdown",
   "metadata": {},
   "source": [
    "My intuition says that whether you stick with your original choice or not, you have a 50% chance of winning the car. However, after reading the wiki page on the Monty Hall Problem, I know that is not the case, as this is conditional probability and not independent. \n",
    "\n",
    "So there are three different scenarios in which the person can win the car: \n",
    "\n",
    "1. goat behind doors 1 and 2\n",
    "2. goat behind doors 1 and 3 \n",
    "3. goat behind doors 2 and 3 \n",
    "\n",
    "In two of the scenarios, if the contestant switches his/her answer, the probability is 2/3 of him/her winning the car. Therefore, it makes sense to switch the answer. \n",
    "\n",
    "Bayes Rule comes into affect here as this is a conditional probability problem. We want to know what's the probability of winning the car after after switching answers given that the host picked a dud. "
   ]
  }
 ],
 "metadata": {
  "kernelspec": {
   "display_name": "Python 3",
   "language": "python",
   "name": "python3"
  },
  "language_info": {
   "codemirror_mode": {
    "name": "ipython",
    "version": 3
   },
   "file_extension": ".py",
   "mimetype": "text/x-python",
   "name": "python",
   "nbconvert_exporter": "python",
   "pygments_lexer": "ipython3",
   "version": "3.6.5"
  }
 },
 "nbformat": 4,
 "nbformat_minor": 2
}
